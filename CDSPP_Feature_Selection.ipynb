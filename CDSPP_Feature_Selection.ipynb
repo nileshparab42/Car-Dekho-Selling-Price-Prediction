{
 "cells": [
  {
   "cell_type": "code",
   "execution_count": 62,
   "id": "8adb31f5",
   "metadata": {},
   "outputs": [],
   "source": [
    "import numpy as np\n",
    "import pandas as pd\n",
    "import matplotlib.pyplot as plt\n",
    "%matplotlib inline\n",
    "import matplotlib.image as mpimg\n",
    "import seaborn as sns\n",
    "from scipy.stats import ttest_ind, chi2_contingency\n",
    "import statsmodels.api as sm\n",
    "from statsmodels.formula.api import ols\n",
    "import os"
   ]
  },
  {
   "cell_type": "code",
   "execution_count": 63,
   "id": "dc29f21b",
   "metadata": {},
   "outputs": [
    {
     "data": {
      "text/html": [
       "<div>\n",
       "<style scoped>\n",
       "    .dataframe tbody tr th:only-of-type {\n",
       "        vertical-align: middle;\n",
       "    }\n",
       "\n",
       "    .dataframe tbody tr th {\n",
       "        vertical-align: top;\n",
       "    }\n",
       "\n",
       "    .dataframe thead th {\n",
       "        text-align: right;\n",
       "    }\n",
       "</style>\n",
       "<table border=\"1\" class=\"dataframe\">\n",
       "  <thead>\n",
       "    <tr style=\"text-align: right;\">\n",
       "      <th></th>\n",
       "      <th>name</th>\n",
       "      <th>year</th>\n",
       "      <th>selling_price</th>\n",
       "      <th>km_driven</th>\n",
       "      <th>fuel</th>\n",
       "      <th>seller_type</th>\n",
       "      <th>transmission</th>\n",
       "      <th>owner</th>\n",
       "    </tr>\n",
       "  </thead>\n",
       "  <tbody>\n",
       "    <tr>\n",
       "      <th>0</th>\n",
       "      <td>Maruti 800 AC</td>\n",
       "      <td>2007</td>\n",
       "      <td>60000</td>\n",
       "      <td>70000</td>\n",
       "      <td>Petrol</td>\n",
       "      <td>Individual</td>\n",
       "      <td>Manual</td>\n",
       "      <td>First Owner</td>\n",
       "    </tr>\n",
       "    <tr>\n",
       "      <th>1</th>\n",
       "      <td>Maruti Wagon R LXI Minor</td>\n",
       "      <td>2007</td>\n",
       "      <td>135000</td>\n",
       "      <td>50000</td>\n",
       "      <td>Petrol</td>\n",
       "      <td>Individual</td>\n",
       "      <td>Manual</td>\n",
       "      <td>First Owner</td>\n",
       "    </tr>\n",
       "    <tr>\n",
       "      <th>2</th>\n",
       "      <td>Hyundai Verna 1.6 SX</td>\n",
       "      <td>2012</td>\n",
       "      <td>600000</td>\n",
       "      <td>100000</td>\n",
       "      <td>Diesel</td>\n",
       "      <td>Individual</td>\n",
       "      <td>Manual</td>\n",
       "      <td>First Owner</td>\n",
       "    </tr>\n",
       "    <tr>\n",
       "      <th>3</th>\n",
       "      <td>Datsun RediGO T Option</td>\n",
       "      <td>2017</td>\n",
       "      <td>250000</td>\n",
       "      <td>46000</td>\n",
       "      <td>Petrol</td>\n",
       "      <td>Individual</td>\n",
       "      <td>Manual</td>\n",
       "      <td>First Owner</td>\n",
       "    </tr>\n",
       "    <tr>\n",
       "      <th>4</th>\n",
       "      <td>Honda Amaze VX i-DTEC</td>\n",
       "      <td>2014</td>\n",
       "      <td>450000</td>\n",
       "      <td>141000</td>\n",
       "      <td>Diesel</td>\n",
       "      <td>Individual</td>\n",
       "      <td>Manual</td>\n",
       "      <td>Second Owner</td>\n",
       "    </tr>\n",
       "    <tr>\n",
       "      <th>...</th>\n",
       "      <td>...</td>\n",
       "      <td>...</td>\n",
       "      <td>...</td>\n",
       "      <td>...</td>\n",
       "      <td>...</td>\n",
       "      <td>...</td>\n",
       "      <td>...</td>\n",
       "      <td>...</td>\n",
       "    </tr>\n",
       "    <tr>\n",
       "      <th>4335</th>\n",
       "      <td>Hyundai i20 Magna 1.4 CRDi (Diesel)</td>\n",
       "      <td>2014</td>\n",
       "      <td>409999</td>\n",
       "      <td>80000</td>\n",
       "      <td>Diesel</td>\n",
       "      <td>Individual</td>\n",
       "      <td>Manual</td>\n",
       "      <td>Second Owner</td>\n",
       "    </tr>\n",
       "    <tr>\n",
       "      <th>4336</th>\n",
       "      <td>Hyundai i20 Magna 1.4 CRDi</td>\n",
       "      <td>2014</td>\n",
       "      <td>409999</td>\n",
       "      <td>80000</td>\n",
       "      <td>Diesel</td>\n",
       "      <td>Individual</td>\n",
       "      <td>Manual</td>\n",
       "      <td>Second Owner</td>\n",
       "    </tr>\n",
       "    <tr>\n",
       "      <th>4337</th>\n",
       "      <td>Maruti 800 AC BSIII</td>\n",
       "      <td>2009</td>\n",
       "      <td>110000</td>\n",
       "      <td>83000</td>\n",
       "      <td>Petrol</td>\n",
       "      <td>Individual</td>\n",
       "      <td>Manual</td>\n",
       "      <td>Second Owner</td>\n",
       "    </tr>\n",
       "    <tr>\n",
       "      <th>4338</th>\n",
       "      <td>Hyundai Creta 1.6 CRDi SX Option</td>\n",
       "      <td>2016</td>\n",
       "      <td>865000</td>\n",
       "      <td>90000</td>\n",
       "      <td>Diesel</td>\n",
       "      <td>Individual</td>\n",
       "      <td>Manual</td>\n",
       "      <td>First Owner</td>\n",
       "    </tr>\n",
       "    <tr>\n",
       "      <th>4339</th>\n",
       "      <td>Renault KWID RXT</td>\n",
       "      <td>2016</td>\n",
       "      <td>225000</td>\n",
       "      <td>40000</td>\n",
       "      <td>Petrol</td>\n",
       "      <td>Individual</td>\n",
       "      <td>Manual</td>\n",
       "      <td>First Owner</td>\n",
       "    </tr>\n",
       "  </tbody>\n",
       "</table>\n",
       "<p>4340 rows × 8 columns</p>\n",
       "</div>"
      ],
      "text/plain": [
       "                                     name  year  selling_price  km_driven  \\\n",
       "0                           Maruti 800 AC  2007          60000      70000   \n",
       "1                Maruti Wagon R LXI Minor  2007         135000      50000   \n",
       "2                    Hyundai Verna 1.6 SX  2012         600000     100000   \n",
       "3                  Datsun RediGO T Option  2017         250000      46000   \n",
       "4                   Honda Amaze VX i-DTEC  2014         450000     141000   \n",
       "...                                   ...   ...            ...        ...   \n",
       "4335  Hyundai i20 Magna 1.4 CRDi (Diesel)  2014         409999      80000   \n",
       "4336           Hyundai i20 Magna 1.4 CRDi  2014         409999      80000   \n",
       "4337                  Maruti 800 AC BSIII  2009         110000      83000   \n",
       "4338     Hyundai Creta 1.6 CRDi SX Option  2016         865000      90000   \n",
       "4339                     Renault KWID RXT  2016         225000      40000   \n",
       "\n",
       "        fuel seller_type transmission         owner  \n",
       "0     Petrol  Individual       Manual   First Owner  \n",
       "1     Petrol  Individual       Manual   First Owner  \n",
       "2     Diesel  Individual       Manual   First Owner  \n",
       "3     Petrol  Individual       Manual   First Owner  \n",
       "4     Diesel  Individual       Manual  Second Owner  \n",
       "...      ...         ...          ...           ...  \n",
       "4335  Diesel  Individual       Manual  Second Owner  \n",
       "4336  Diesel  Individual       Manual  Second Owner  \n",
       "4337  Petrol  Individual       Manual  Second Owner  \n",
       "4338  Diesel  Individual       Manual   First Owner  \n",
       "4339  Petrol  Individual       Manual   First Owner  \n",
       "\n",
       "[4340 rows x 8 columns]"
      ]
     },
     "execution_count": 63,
     "metadata": {},
     "output_type": "execute_result"
    }
   ],
   "source": [
    "os.chdir(\"C:\\\\Users\\\\Nilesh\\\\Documents\\\\GitHub\\\\Car Dekho Selling Price Prediction\")\n",
    "df = pd.read_csv(\"car-dataset.csv\")\n",
    "df"
   ]
  },
  {
   "cell_type": "markdown",
   "id": "9f0a60e8",
   "metadata": {},
   "source": [
    "## Identifying the dimensions"
   ]
  },
  {
   "cell_type": "code",
   "execution_count": 64,
   "id": "32edc186",
   "metadata": {},
   "outputs": [
    {
     "data": {
      "text/plain": [
       "(4340, 8)"
      ]
     },
     "execution_count": 64,
     "metadata": {},
     "output_type": "execute_result"
    }
   ],
   "source": [
    "df.shape"
   ]
  },
  {
   "cell_type": "code",
   "execution_count": 65,
   "id": "80180382",
   "metadata": {},
   "outputs": [
    {
     "data": {
      "text/plain": [
       "Index(['name', 'year', 'selling_price', 'km_driven', 'fuel', 'seller_type',\n",
       "       'transmission', 'owner'],\n",
       "      dtype='object')"
      ]
     },
     "execution_count": 65,
     "metadata": {},
     "output_type": "execute_result"
    }
   ],
   "source": [
    "df.columns"
   ]
  },
  {
   "cell_type": "code",
   "execution_count": 66,
   "id": "3d27a19f",
   "metadata": {},
   "outputs": [
    {
     "data": {
      "text/html": [
       "<div>\n",
       "<style scoped>\n",
       "    .dataframe tbody tr th:only-of-type {\n",
       "        vertical-align: middle;\n",
       "    }\n",
       "\n",
       "    .dataframe tbody tr th {\n",
       "        vertical-align: top;\n",
       "    }\n",
       "\n",
       "    .dataframe thead th {\n",
       "        text-align: right;\n",
       "    }\n",
       "</style>\n",
       "<table border=\"1\" class=\"dataframe\">\n",
       "  <thead>\n",
       "    <tr style=\"text-align: right;\">\n",
       "      <th></th>\n",
       "      <th>name</th>\n",
       "      <th>year</th>\n",
       "      <th>selling_price</th>\n",
       "      <th>km_driven</th>\n",
       "      <th>fuel</th>\n",
       "      <th>seller_type</th>\n",
       "      <th>transmission</th>\n",
       "      <th>owner</th>\n",
       "    </tr>\n",
       "  </thead>\n",
       "  <tbody>\n",
       "    <tr>\n",
       "      <th>0</th>\n",
       "      <td>Maruti 800 AC</td>\n",
       "      <td>2007</td>\n",
       "      <td>60000</td>\n",
       "      <td>70000</td>\n",
       "      <td>Petrol</td>\n",
       "      <td>Individual</td>\n",
       "      <td>Manual</td>\n",
       "      <td>First Owner</td>\n",
       "    </tr>\n",
       "    <tr>\n",
       "      <th>1</th>\n",
       "      <td>Maruti Wagon R LXI Minor</td>\n",
       "      <td>2007</td>\n",
       "      <td>135000</td>\n",
       "      <td>50000</td>\n",
       "      <td>Petrol</td>\n",
       "      <td>Individual</td>\n",
       "      <td>Manual</td>\n",
       "      <td>First Owner</td>\n",
       "    </tr>\n",
       "    <tr>\n",
       "      <th>2</th>\n",
       "      <td>Hyundai Verna 1.6 SX</td>\n",
       "      <td>2012</td>\n",
       "      <td>600000</td>\n",
       "      <td>100000</td>\n",
       "      <td>Diesel</td>\n",
       "      <td>Individual</td>\n",
       "      <td>Manual</td>\n",
       "      <td>First Owner</td>\n",
       "    </tr>\n",
       "    <tr>\n",
       "      <th>3</th>\n",
       "      <td>Datsun RediGO T Option</td>\n",
       "      <td>2017</td>\n",
       "      <td>250000</td>\n",
       "      <td>46000</td>\n",
       "      <td>Petrol</td>\n",
       "      <td>Individual</td>\n",
       "      <td>Manual</td>\n",
       "      <td>First Owner</td>\n",
       "    </tr>\n",
       "    <tr>\n",
       "      <th>4</th>\n",
       "      <td>Honda Amaze VX i-DTEC</td>\n",
       "      <td>2014</td>\n",
       "      <td>450000</td>\n",
       "      <td>141000</td>\n",
       "      <td>Diesel</td>\n",
       "      <td>Individual</td>\n",
       "      <td>Manual</td>\n",
       "      <td>Second Owner</td>\n",
       "    </tr>\n",
       "  </tbody>\n",
       "</table>\n",
       "</div>"
      ],
      "text/plain": [
       "                       name  year  selling_price  km_driven    fuel  \\\n",
       "0             Maruti 800 AC  2007          60000      70000  Petrol   \n",
       "1  Maruti Wagon R LXI Minor  2007         135000      50000  Petrol   \n",
       "2      Hyundai Verna 1.6 SX  2012         600000     100000  Diesel   \n",
       "3    Datsun RediGO T Option  2017         250000      46000  Petrol   \n",
       "4     Honda Amaze VX i-DTEC  2014         450000     141000  Diesel   \n",
       "\n",
       "  seller_type transmission         owner  \n",
       "0  Individual       Manual   First Owner  \n",
       "1  Individual       Manual   First Owner  \n",
       "2  Individual       Manual   First Owner  \n",
       "3  Individual       Manual   First Owner  \n",
       "4  Individual       Manual  Second Owner  "
      ]
     },
     "execution_count": 66,
     "metadata": {},
     "output_type": "execute_result"
    }
   ],
   "source": [
    "df.head()"
   ]
  },
  {
   "cell_type": "markdown",
   "id": "e93995a1",
   "metadata": {},
   "source": [
    "## Variable identification"
   ]
  },
  {
   "cell_type": "code",
   "execution_count": 67,
   "id": "64f8240f",
   "metadata": {},
   "outputs": [
    {
     "data": {
      "text/plain": [
       "name             object\n",
       "year              int64\n",
       "selling_price     int64\n",
       "km_driven         int64\n",
       "fuel             object\n",
       "seller_type      object\n",
       "transmission     object\n",
       "owner            object\n",
       "dtype: object"
      ]
     },
     "execution_count": 67,
     "metadata": {},
     "output_type": "execute_result"
    }
   ],
   "source": [
    "df.dtypes"
   ]
  },
  {
   "cell_type": "markdown",
   "id": "3be3a587",
   "metadata": {},
   "source": [
    "## Univarient Analysis"
   ]
  },
  {
   "cell_type": "code",
   "execution_count": 68,
   "id": "b18f0d2a",
   "metadata": {},
   "outputs": [],
   "source": [
    "categorical = []\n",
    "contineous = []\n",
    "for column in df.columns:\n",
    "    if df[column].dtypes == \"int64\":\n",
    "        contineous.append(column)\n",
    "    if df[column].dtypes == \"object\":\n",
    "        categorical.append(column)"
   ]
  },
  {
   "cell_type": "markdown",
   "id": "d99a53b1",
   "metadata": {},
   "source": [
    "### Univarient Analysis for Contineous Variables"
   ]
  },
  {
   "cell_type": "code",
   "execution_count": 69,
   "id": "195526b3",
   "metadata": {},
   "outputs": [
    {
     "data": {
      "text/plain": [
       "['year', 'selling_price', 'km_driven']"
      ]
     },
     "execution_count": 69,
     "metadata": {},
     "output_type": "execute_result"
    }
   ],
   "source": [
    "contineous"
   ]
  },
  {
   "cell_type": "code",
   "execution_count": 70,
   "id": "a7e88b26",
   "metadata": {},
   "outputs": [
    {
     "data": {
      "text/html": [
       "<div>\n",
       "<style scoped>\n",
       "    .dataframe tbody tr th:only-of-type {\n",
       "        vertical-align: middle;\n",
       "    }\n",
       "\n",
       "    .dataframe tbody tr th {\n",
       "        vertical-align: top;\n",
       "    }\n",
       "\n",
       "    .dataframe thead th {\n",
       "        text-align: right;\n",
       "    }\n",
       "</style>\n",
       "<table border=\"1\" class=\"dataframe\">\n",
       "  <thead>\n",
       "    <tr style=\"text-align: right;\">\n",
       "      <th></th>\n",
       "      <th>year</th>\n",
       "      <th>selling_price</th>\n",
       "      <th>km_driven</th>\n",
       "    </tr>\n",
       "  </thead>\n",
       "  <tbody>\n",
       "    <tr>\n",
       "      <th>count</th>\n",
       "      <td>4340.000000</td>\n",
       "      <td>4.340000e+03</td>\n",
       "      <td>4340.000000</td>\n",
       "    </tr>\n",
       "    <tr>\n",
       "      <th>mean</th>\n",
       "      <td>2013.090783</td>\n",
       "      <td>5.041273e+05</td>\n",
       "      <td>66215.777419</td>\n",
       "    </tr>\n",
       "    <tr>\n",
       "      <th>std</th>\n",
       "      <td>4.215344</td>\n",
       "      <td>5.785487e+05</td>\n",
       "      <td>46644.102194</td>\n",
       "    </tr>\n",
       "    <tr>\n",
       "      <th>min</th>\n",
       "      <td>1992.000000</td>\n",
       "      <td>2.000000e+04</td>\n",
       "      <td>1.000000</td>\n",
       "    </tr>\n",
       "    <tr>\n",
       "      <th>25%</th>\n",
       "      <td>2011.000000</td>\n",
       "      <td>2.087498e+05</td>\n",
       "      <td>35000.000000</td>\n",
       "    </tr>\n",
       "    <tr>\n",
       "      <th>50%</th>\n",
       "      <td>2014.000000</td>\n",
       "      <td>3.500000e+05</td>\n",
       "      <td>60000.000000</td>\n",
       "    </tr>\n",
       "    <tr>\n",
       "      <th>75%</th>\n",
       "      <td>2016.000000</td>\n",
       "      <td>6.000000e+05</td>\n",
       "      <td>90000.000000</td>\n",
       "    </tr>\n",
       "    <tr>\n",
       "      <th>max</th>\n",
       "      <td>2020.000000</td>\n",
       "      <td>8.900000e+06</td>\n",
       "      <td>806599.000000</td>\n",
       "    </tr>\n",
       "  </tbody>\n",
       "</table>\n",
       "</div>"
      ],
      "text/plain": [
       "              year  selling_price      km_driven\n",
       "count  4340.000000   4.340000e+03    4340.000000\n",
       "mean   2013.090783   5.041273e+05   66215.777419\n",
       "std       4.215344   5.785487e+05   46644.102194\n",
       "min    1992.000000   2.000000e+04       1.000000\n",
       "25%    2011.000000   2.087498e+05   35000.000000\n",
       "50%    2014.000000   3.500000e+05   60000.000000\n",
       "75%    2016.000000   6.000000e+05   90000.000000\n",
       "max    2020.000000   8.900000e+06  806599.000000"
      ]
     },
     "execution_count": 70,
     "metadata": {},
     "output_type": "execute_result"
    }
   ],
   "source": [
    "df.describe()"
   ]
  },
  {
   "cell_type": "code",
   "execution_count": 71,
   "id": "8510c605",
   "metadata": {},
   "outputs": [
    {
     "data": {
      "text/plain": [
       "<AxesSubplot:title={'center':'Km driven'}, ylabel='Frequency'>"
      ]
     },
     "execution_count": 71,
     "metadata": {},
     "output_type": "execute_result"
    },
    {
     "data": {
      "image/png": "[encoded data removed]",
      "text/plain": [
       "<Figure size 972x252 with 3 Axes>"
      ]
     },
     "metadata": {
      "needs_background": "light"
     },
     "output_type": "display_data"
    }
   ],
   "source": [
    "# Initialise the subplot function using number of rows and columns\n",
    "plt.rcParams[\"figure.figsize\"] = [13.50, 3.50]\n",
    "plt.rcParams[\"figure.autolayout\"] = True\n",
    "figure, axis = plt.subplots(1, 3)\n",
    "  \n",
    "df['year'].plot.hist(title=\"Year\",ax=axis[0],color=\"MEDIUMVIOLETRED\")\n",
    "df['selling_price'].plot.hist(title=\"Selling price\",ax=axis[1],color=\"INDIGO\")\n",
    "df['km_driven'].plot.hist(title=\"Km driven\",color=\"MEDIUMVIOLETRED\")"
   ]
  },
  {
   "cell_type": "code",
   "execution_count": 72,
   "id": "385ba761",
   "metadata": {},
   "outputs": [
    {
     "data": {
      "text/plain": [
       "<AxesSubplot:title={'center':'Km driven'}>"
      ]
     },
     "execution_count": 72,
     "metadata": {},
     "output_type": "execute_result"
    },
    {
     "data": {
      "image/png": "[encoded data removed]",
      "text/plain": [
       "<Figure size 972x252 with 3 Axes>"
      ]
     },
     "metadata": {
      "needs_background": "light"
     },
     "output_type": "display_data"
    }
   ],
   "source": [
    "plt.rcParams[\"figure.figsize\"] = [13.50, 3.50]\n",
    "plt.rcParams[\"figure.autolayout\"] = True\n",
    "figure, axis = plt.subplots(1, 3)\n",
    "  \n",
    "df['year'].plot.box(title=\"Year\",ax=axis[0],color=\"MEDIUMVIOLETRED\")\n",
    "df['selling_price'].plot.box(title=\"Selling price\",ax=axis[1],color=\"MEDIUMVIOLETRED\")\n",
    "df['km_driven'].plot.box(title=\"Km driven\",ax=axis[2],color=\"MEDIUMVIOLETRED\")"
   ]
  },
  {
   "cell_type": "markdown",
   "id": "f6f0cbbd",
   "metadata": {},
   "source": [
    "### Univarient Analysis for Categorical Variables"
   ]
  },
  {
   "cell_type": "code",
   "execution_count": 73,
   "id": "ba56905f",
   "metadata": {},
   "outputs": [
    {
     "data": {
      "text/plain": [
       "['fuel', 'seller_type', 'transmission', 'owner']"
      ]
     },
     "execution_count": 73,
     "metadata": {},
     "output_type": "execute_result"
    }
   ],
   "source": [
    "categorical=categorical[1:]\n",
    "categorical"
   ]
  },
  {
   "cell_type": "markdown",
   "id": "893d4848",
   "metadata": {},
   "source": [
    "We dropped name attribute because it is a unique key"
   ]
  },
  {
   "cell_type": "code",
   "execution_count": 74,
   "id": "949da46d",
   "metadata": {},
   "outputs": [
    {
     "name": "stdout",
     "output_type": "stream",
     "text": [
      "--------------------------------\n",
      "fuel\n",
      "--------------------------------\n",
      "Diesel      2153\n",
      "Petrol      2123\n",
      "CNG           40\n",
      "LPG           23\n",
      "Electric       1\n",
      "Name: fuel, dtype: int64\n",
      "--------------------------------\n",
      "\n",
      "\n",
      "--------------------------------\n",
      "seller_type\n",
      "--------------------------------\n",
      "Individual          3244\n",
      "Dealer               994\n",
      "Trustmark Dealer     102\n",
      "Name: seller_type, dtype: int64\n",
      "--------------------------------\n",
      "\n",
      "\n",
      "--------------------------------\n",
      "transmission\n",
      "--------------------------------\n",
      "Manual       3892\n",
      "Automatic     448\n",
      "Name: transmission, dtype: int64\n",
      "--------------------------------\n",
      "\n",
      "\n",
      "--------------------------------\n",
      "owner\n",
      "--------------------------------\n",
      "First Owner             2832\n",
      "Second Owner            1106\n",
      "Third Owner              304\n",
      "Fourth & Above Owner      81\n",
      "Test Drive Car            17\n",
      "Name: owner, dtype: int64\n",
      "--------------------------------\n",
      "\n",
      "\n"
     ]
    }
   ],
   "source": [
    "for column in categorical:\n",
    "    print(\"--------------------------------\")\n",
    "    print(column)\n",
    "    print(\"--------------------------------\")\n",
    "    print(df[column].value_counts())\n",
    "    print(\"--------------------------------\")\n",
    "    print(\"\\n\")"
   ]
  },
  {
   "cell_type": "code",
   "execution_count": 75,
   "id": "daa1b823",
   "metadata": {},
   "outputs": [
    {
     "data": {
      "text/plain": [
       "<AxesSubplot:title={'center':'Owner'}>"
      ]
     },
     "execution_count": 75,
     "metadata": {},
     "output_type": "execute_result"
    },
    {
     "data": {
      "image/png": "[encoded data removed]",
      "text/plain": [
       "<Figure size 612x612 with 4 Axes>"
      ]
     },
     "metadata": {
      "needs_background": "light"
     },
     "output_type": "display_data"
    }
   ],
   "source": [
    "plt.rcParams[\"figure.figsize\"] = [8.50, 8.50]\n",
    "plt.rcParams[\"figure.autolayout\"] = True\n",
    "figure, axis = plt.subplots(2, 2)\n",
    "  \n",
    "df['fuel'].value_counts().plot.bar(title=\"Fuel\",ax=axis[0][0],color=\"MEDIUMVIOLETRED\")\n",
    "df['seller_type'].value_counts().plot.bar(title=\"Seller type\",ax=axis[0][1],color=\"INDIGO\")\n",
    "df['transmission'].value_counts().plot.bar(title=\"Transmission\",ax=axis[1][0],color=\"INDIGO\")\n",
    "df['owner'].value_counts().plot.bar(title=\"Owner\",ax=axis[1][1],color=\"MEDIUMVIOLETRED\")"
   ]
  },
  {
   "cell_type": "code",
   "execution_count": 76,
   "id": "568614f1",
   "metadata": {},
   "outputs": [
    {
     "name": "stdout",
     "output_type": "stream",
     "text": [
      "--------------------------------\n",
      "fuel\n",
      "--------------------------------\n",
      "Diesel      0.496083\n",
      "Petrol      0.489171\n",
      "CNG         0.009217\n",
      "LPG         0.005300\n",
      "Electric    0.000230\n",
      "Name: fuel, dtype: float64\n",
      "--------------------------------\n",
      "\n",
      "\n",
      "--------------------------------\n",
      "seller_type\n",
      "--------------------------------\n",
      "Individual          0.747465\n",
      "Dealer              0.229032\n",
      "Trustmark Dealer    0.023502\n",
      "Name: seller_type, dtype: float64\n",
      "--------------------------------\n",
      "\n",
      "\n",
      "--------------------------------\n",
      "transmission\n",
      "--------------------------------\n",
      "Manual       0.896774\n",
      "Automatic    0.103226\n",
      "Name: transmission, dtype: float64\n",
      "--------------------------------\n",
      "\n",
      "\n",
      "--------------------------------\n",
      "owner\n",
      "--------------------------------\n",
      "First Owner             0.652535\n",
      "Second Owner            0.254839\n",
      "Third Owner             0.070046\n",
      "Fourth & Above Owner    0.018664\n",
      "Test Drive Car          0.003917\n",
      "Name: owner, dtype: float64\n",
      "--------------------------------\n",
      "\n",
      "\n"
     ]
    }
   ],
   "source": [
    "for column in categorical:\n",
    "    print(\"--------------------------------\")\n",
    "    print(column)\n",
    "    print(\"--------------------------------\")\n",
    "    print(df[column].value_counts()/len(df[column]))\n",
    "    print(\"--------------------------------\")\n",
    "    print(\"\\n\")"
   ]
  },
  {
   "cell_type": "code",
   "execution_count": 77,
   "id": "cbb7a4da",
   "metadata": {},
   "outputs": [
    {
     "data": {
      "text/plain": [
       "<AxesSubplot:title={'center':'Owner'}>"
      ]
     },
     "execution_count": 77,
     "metadata": {},
     "output_type": "execute_result"
    },
    {
     "data": {
      "image/png": "[encoded data removed]",
      "text/plain": [
       "<Figure size 612x612 with 4 Axes>"
      ]
     },
     "metadata": {
      "needs_background": "light"
     },
     "output_type": "display_data"
    }
   ],
   "source": [
    "plt.rcParams[\"figure.figsize\"] = [8.50, 8.50]\n",
    "plt.rcParams[\"figure.autolayout\"] = True\n",
    "figure, axis = plt.subplots(2, 2)\n",
    "  \n",
    "    \n",
    "(df['fuel'].value_counts()/len(df['fuel'])).plot.bar(title=\"Fuel\",ax=axis[0][0],color=\"MEDIUMVIOLETRED\")\n",
    "(df['seller_type'].value_counts()/len(df['fuel'])).plot.bar(title=\"Seller type\",ax=axis[0][1],color=\"INDIGO\")\n",
    "(df['transmission'].value_counts()/len(df['fuel'])).plot.bar(title=\"Transmission\",ax=axis[1][0],color=\"INDIGO\")\n",
    "(df['owner'].value_counts()/len(df['fuel'])).plot.bar(title=\"Owner\",ax=axis[1][1],color=\"MEDIUMVIOLETRED\")"
   ]
  },
  {
   "cell_type": "markdown",
   "id": "5b8e79d8",
   "metadata": {},
   "source": [
    " ## Bivarient Analysis"
   ]
  },
  {
   "cell_type": "code",
   "execution_count": 78,
   "id": "7699a55a",
   "metadata": {},
   "outputs": [
    {
     "data": {
      "text/plain": [
       "Index(['name', 'year', 'selling_price', 'km_driven', 'fuel', 'seller_type',\n",
       "       'transmission', 'owner'],\n",
       "      dtype='object')"
      ]
     },
     "execution_count": 78,
     "metadata": {},
     "output_type": "execute_result"
    }
   ],
   "source": [
    "df.columns"
   ]
  },
  {
   "cell_type": "markdown",
   "id": "dea4485e",
   "metadata": {},
   "source": [
    "### Bivarient Analyisis contineous - contineous variable"
   ]
  },
  {
   "cell_type": "code",
   "execution_count": 79,
   "id": "ee99ccda",
   "metadata": {},
   "outputs": [
    {
     "data": {
      "text/plain": [
       "['year', 'selling_price', 'km_driven']"
      ]
     },
     "execution_count": 79,
     "metadata": {},
     "output_type": "execute_result"
    }
   ],
   "source": [
    "contineous"
   ]
  },
  {
   "cell_type": "code",
   "execution_count": 85,
   "id": "553995d0",
   "metadata": {},
   "outputs": [
    {
     "data": {
      "text/plain": [
       "<AxesSubplot:title={'center':'Selling Price Vs Km driven'}, xlabel='selling_price', ylabel='km_driven'>"
      ]
     },
     "execution_count": 85,
     "metadata": {},
     "output_type": "execute_result"
    },
    {
     "data": {
      "image/png": "[encoded data removed]",
      "text/plain": [
       "<Figure size 900x252 with 3 Axes>"
      ]
     },
     "metadata": {
      "needs_background": "light"
     },
     "output_type": "display_data"
    }
   ],
   "source": [
    "plt.rcParams[\"figure.figsize\"] = [12.50, 3.50]\n",
    "plt.rcParams[\"figure.autolayout\"] = True\n",
    "figure, axis = plt.subplots(1, 3)\n",
    "\n",
    "df.plot.scatter('year','selling_price',title=\"Year Vs Selling Price\",ax=axis[0],color=\"MEDIUMVIOLETRED\")\n",
    "df.plot.scatter('year','km_driven',title=\"Year Vs Km driven\",ax=axis[1],color=\"INDIGO\")\n",
    "df.plot.scatter('selling_price','km_driven',title=\"Selling Price Vs Km driven\",ax=axis[2],color=\"MEDIUMVIOLETRED\")"
   ]
  },
  {
   "cell_type": "code",
   "execution_count": 20,
   "id": "32bdc2b6",
   "metadata": {},
   "outputs": [
    {
     "data": {
      "image/png": "[encoded data removed]",
      "text/plain": [
       "<Figure size 900x252 with 2 Axes>"
      ]
     },
     "metadata": {
      "needs_background": "light"
     },
     "output_type": "display_data"
    }
   ],
   "source": [
    "# plotting correlation heatmap\n",
    "dataplot = sns.heatmap(df.corr(), cmap=sns.cubehelix_palette(as_cmap=True), annot=True)\n",
    "  \n",
    "# displaying heatmap\n",
    "plt.show()"
   ]
  },
  {
   "cell_type": "code",
   "execution_count": 21,
   "id": "452f2e0f",
   "metadata": {},
   "outputs": [
    {
     "data": {
      "text/html": [
       "<div>\n",
       "<style scoped>\n",
       "    .dataframe tbody tr th:only-of-type {\n",
       "        vertical-align: middle;\n",
       "    }\n",
       "\n",
       "    .dataframe tbody tr th {\n",
       "        vertical-align: top;\n",
       "    }\n",
       "\n",
       "    .dataframe thead th {\n",
       "        text-align: right;\n",
       "    }\n",
       "</style>\n",
       "<table border=\"1\" class=\"dataframe\">\n",
       "  <thead>\n",
       "    <tr style=\"text-align: right;\">\n",
       "      <th></th>\n",
       "      <th>year</th>\n",
       "      <th>selling_price</th>\n",
       "      <th>km_driven</th>\n",
       "    </tr>\n",
       "  </thead>\n",
       "  <tbody>\n",
       "    <tr>\n",
       "      <th>year</th>\n",
       "      <td>1.000000</td>\n",
       "      <td>0.413922</td>\n",
       "      <td>-0.419688</td>\n",
       "    </tr>\n",
       "    <tr>\n",
       "      <th>selling_price</th>\n",
       "      <td>0.413922</td>\n",
       "      <td>1.000000</td>\n",
       "      <td>-0.192289</td>\n",
       "    </tr>\n",
       "    <tr>\n",
       "      <th>km_driven</th>\n",
       "      <td>-0.419688</td>\n",
       "      <td>-0.192289</td>\n",
       "      <td>1.000000</td>\n",
       "    </tr>\n",
       "  </tbody>\n",
       "</table>\n",
       "</div>"
      ],
      "text/plain": [
       "                   year  selling_price  km_driven\n",
       "year           1.000000       0.413922  -0.419688\n",
       "selling_price  0.413922       1.000000  -0.192289\n",
       "km_driven     -0.419688      -0.192289   1.000000"
      ]
     },
     "execution_count": 21,
     "metadata": {},
     "output_type": "execute_result"
    }
   ],
   "source": [
    "df.corr()"
   ]
  },
  {
   "cell_type": "code",
   "execution_count": 22,
   "id": "769132ed",
   "metadata": {},
   "outputs": [],
   "source": [
    "df.drop(['km_driven'], axis=1, inplace=True)"
   ]
  },
  {
   "cell_type": "markdown",
   "id": "26e6e724",
   "metadata": {},
   "source": [
    "We dropped km_driven because it is weakly correlated to dependent variable."
   ]
  },
  {
   "cell_type": "markdown",
   "id": "41424ead",
   "metadata": {},
   "source": [
    "### Bivarient Analyisis categorical - categorical variable"
   ]
  },
  {
   "cell_type": "code",
   "execution_count": 23,
   "id": "7168b067",
   "metadata": {},
   "outputs": [
    {
     "data": {
      "text/plain": [
       "['fuel', 'seller_type', 'transmission', 'owner']"
      ]
     },
     "execution_count": 23,
     "metadata": {},
     "output_type": "execute_result"
    }
   ],
   "source": [
    "categorical"
   ]
  },
  {
   "cell_type": "code",
   "execution_count": 24,
   "id": "f928624d",
   "metadata": {},
   "outputs": [
    {
     "data": {
      "text/html": [
       "<div>\n",
       "<style scoped>\n",
       "    .dataframe tbody tr th:only-of-type {\n",
       "        vertical-align: middle;\n",
       "    }\n",
       "\n",
       "    .dataframe tbody tr th {\n",
       "        vertical-align: top;\n",
       "    }\n",
       "\n",
       "    .dataframe thead th {\n",
       "        text-align: right;\n",
       "    }\n",
       "</style>\n",
       "<table border=\"1\" class=\"dataframe\">\n",
       "  <thead>\n",
       "    <tr style=\"text-align: right;\">\n",
       "      <th>seller_type</th>\n",
       "      <th>Dealer</th>\n",
       "      <th>Individual</th>\n",
       "      <th>Trustmark Dealer</th>\n",
       "    </tr>\n",
       "    <tr>\n",
       "      <th>fuel</th>\n",
       "      <th></th>\n",
       "      <th></th>\n",
       "      <th></th>\n",
       "    </tr>\n",
       "  </thead>\n",
       "  <tbody>\n",
       "    <tr>\n",
       "      <th>CNG</th>\n",
       "      <td>9</td>\n",
       "      <td>31</td>\n",
       "      <td>0</td>\n",
       "    </tr>\n",
       "    <tr>\n",
       "      <th>Diesel</th>\n",
       "      <td>529</td>\n",
       "      <td>1576</td>\n",
       "      <td>48</td>\n",
       "    </tr>\n",
       "    <tr>\n",
       "      <th>Electric</th>\n",
       "      <td>1</td>\n",
       "      <td>0</td>\n",
       "      <td>0</td>\n",
       "    </tr>\n",
       "    <tr>\n",
       "      <th>LPG</th>\n",
       "      <td>1</td>\n",
       "      <td>22</td>\n",
       "      <td>0</td>\n",
       "    </tr>\n",
       "    <tr>\n",
       "      <th>Petrol</th>\n",
       "      <td>454</td>\n",
       "      <td>1615</td>\n",
       "      <td>54</td>\n",
       "    </tr>\n",
       "  </tbody>\n",
       "</table>\n",
       "</div>"
      ],
      "text/plain": [
       "seller_type  Dealer  Individual  Trustmark Dealer\n",
       "fuel                                             \n",
       "CNG               9          31                 0\n",
       "Diesel          529        1576                48\n",
       "Electric          1           0                 0\n",
       "LPG               1          22                 0\n",
       "Petrol          454        1615                54"
      ]
     },
     "execution_count": 24,
     "metadata": {},
     "output_type": "execute_result"
    }
   ],
   "source": [
    "pd.crosstab(df['fuel'],df['seller_type'])"
   ]
  },
  {
   "cell_type": "code",
   "execution_count": 25,
   "id": "dcf675ab",
   "metadata": {},
   "outputs": [
    {
     "name": "stdout",
     "output_type": "stream",
     "text": [
      "fuel-sellertype : 0.040954247748934705\n",
      "fuel-transmission : 6.405461271607848e-05\n",
      "fuel-owner : 0.19419576912621267\n",
      "sellertype-transmission : 3.567633340656093e-44\n",
      "sellertype-owner : 1.2332824494323794e-75\n",
      "transmission-owner :1.961948581702505e-07\n"
     ]
    }
   ],
   "source": [
    "print(\"fuel-\"+\"sellertype : \"+str(chi2_contingency(pd.crosstab(df['fuel'],df['seller_type']))[1]))\n",
    "print(\"fuel-\"+\"transmission : \"+str(chi2_contingency(pd.crosstab(df['fuel'],df['transmission']))[1]))\n",
    "print(\"fuel-\"+\"owner : \"+str(chi2_contingency(pd.crosstab(df['fuel'],df['owner']))[1]))\n",
    "print(\"sellertype-\"+\"transmission : \"+str(chi2_contingency(pd.crosstab(df['seller_type'],df['transmission']))[1]))\n",
    "print(\"sellertype-\"+\"owner : \"+str(chi2_contingency(pd.crosstab(df['seller_type'],df['owner']))[1]))\n",
    "print(\"transmission-\"+\"owner :\"+str(chi2_contingency(pd.crosstab(df['transmission'],df['owner']))[1]))"
   ]
  },
  {
   "cell_type": "code",
   "execution_count": 26,
   "id": "b0df8175",
   "metadata": {},
   "outputs": [
    {
     "name": "stdout",
     "output_type": "stream",
     "text": [
      "Drop owner because it is related to fuel\n"
     ]
    }
   ],
   "source": [
    "alpha=0.05\n",
    "if alpha<=chi2_contingency(pd.crosstab(df['fuel'],df['seller_type']))[1]:\n",
    "                           print(\"Drop seller_type because it is related to fuel\")\n",
    "if alpha<=chi2_contingency(pd.crosstab(df['fuel'],df['transmission']))[1]:\n",
    "                           print(\"Drop transmission because it is related to fuel\")\n",
    "if alpha<=chi2_contingency(pd.crosstab(df['fuel'],df['owner']))[1]:\n",
    "                           print(\"Drop owner because it is related to fuel\")\n",
    "if alpha<=chi2_contingency(pd.crosstab(df['seller_type'],df['transmission']))[1]:\n",
    "                           print(\"Drop transmission because it is related to seller_type\")\n",
    "if alpha<=chi2_contingency(pd.crosstab(df['seller_type'],df['owner']))[1]:\n",
    "                           print(\"Drop owner because it is related to seller_type\")\n",
    "if alpha<=chi2_contingency(pd.crosstab(df['transmission'],df['owner']))[1]:\n",
    "                           print(\"Drop owner because it is related to transmission\")"
   ]
  },
  {
   "cell_type": "code",
   "execution_count": 27,
   "id": "2e738587",
   "metadata": {},
   "outputs": [],
   "source": [
    "df.drop(['owner'], axis=1, inplace=True)"
   ]
  },
  {
   "cell_type": "code",
   "execution_count": 28,
   "id": "50739691",
   "metadata": {},
   "outputs": [],
   "source": [
    "categorical=categorical[:-1]\n",
    "contineous=contineous[:-1]"
   ]
  },
  {
   "cell_type": "markdown",
   "id": "cfd2a832",
   "metadata": {},
   "source": [
    "### Bivarient Analyisis contineous - Categorical variable"
   ]
  },
  {
   "cell_type": "code",
   "execution_count": 29,
   "id": "feadfe91",
   "metadata": {},
   "outputs": [
    {
     "data": {
      "text/plain": [
       "['year', 'selling_price']"
      ]
     },
     "execution_count": 29,
     "metadata": {},
     "output_type": "execute_result"
    }
   ],
   "source": [
    "contineous"
   ]
  },
  {
   "cell_type": "code",
   "execution_count": 30,
   "id": "81736e64",
   "metadata": {},
   "outputs": [
    {
     "data": {
      "text/plain": [
       "['fuel', 'seller_type', 'transmission']"
      ]
     },
     "execution_count": 30,
     "metadata": {},
     "output_type": "execute_result"
    }
   ],
   "source": [
    "categorical"
   ]
  },
  {
   "cell_type": "markdown",
   "id": "776c3073",
   "metadata": {},
   "source": [
    "#### Calculations for year variable"
   ]
  },
  {
   "cell_type": "code",
   "execution_count": 31,
   "id": "5ff4fde8",
   "metadata": {},
   "outputs": [
    {
     "name": "stdout",
     "output_type": "stream",
     "text": [
      "----------------------------------\n",
      "fuel\n",
      "CNG         2013.475000\n",
      "Diesel      2013.606595\n",
      "Electric    2006.000000\n",
      "LPG         2010.130435\n",
      "Petrol      2012.595855\n",
      "Name: year, dtype: float64\n",
      "----------------------------------\n",
      "seller_type\n",
      "Dealer              2014.200201\n",
      "Individual          2012.665228\n",
      "Trustmark Dealer    2015.813725\n",
      "Name: year, dtype: float64\n",
      "----------------------------------\n",
      "transmission\n",
      "Automatic    2014.877232\n",
      "Manual       2012.885149\n",
      "Name: year, dtype: float64\n",
      "----------------------------------\n"
     ]
    }
   ],
   "source": [
    "print(\"----------------------------------\")\n",
    "print(df.groupby('fuel')['year'].mean())\n",
    "print(\"----------------------------------\")\n",
    "print(df.groupby('seller_type')['year'].mean())\n",
    "print(\"----------------------------------\")\n",
    "print(df.groupby('transmission')['year'].mean())\n",
    "print(\"----------------------------------\")"
   ]
  },
  {
   "cell_type": "code",
   "execution_count": 32,
   "id": "b1b29f46",
   "metadata": {},
   "outputs": [
    {
     "data": {
      "text/plain": [
       "<AxesSubplot:xlabel='transmission'>"
      ]
     },
     "execution_count": 32,
     "metadata": {},
     "output_type": "execute_result"
    },
    {
     "data": {
      "image/png": "[encoded data removed]",
      "text/plain": [
       "<Figure size 900x252 with 3 Axes>"
      ]
     },
     "metadata": {
      "needs_background": "light"
     },
     "output_type": "display_data"
    }
   ],
   "source": [
    "df.groupby('fuel')['year'].mean().plot.bar(ax=axis[0],color=\"MEDIUMVIOLETRED\")\n",
    "\n",
    "plt.rcParams[\"figure.figsize\"] = [12.50, 3.50]\n",
    "plt.rcParams[\"figure.autolayout\"] = True\n",
    "figure, axis = plt.subplots(1, 3)\n",
    "\n",
    "df.groupby('fuel')['year'].mean().plot.bar(ax=axis[0],color=\"MEDIUMVIOLETRED\")\n",
    "df.groupby('seller_type')['year'].mean().plot.bar(ax=axis[1],color=\"INDIGO\")\n",
    "df.groupby('transmission')['year'].mean().plot.bar(ax=axis[2],color=\"MEDIUMVIOLETRED\")"
   ]
  },
  {
   "cell_type": "code",
   "execution_count": 33,
   "id": "88135e0e",
   "metadata": {},
   "outputs": [
    {
     "data": {
      "text/plain": [
       "<AxesSubplot:title={'center':'year'}, xlabel='transmission'>"
      ]
     },
     "execution_count": 33,
     "metadata": {},
     "output_type": "execute_result"
    },
    {
     "data": {
      "image/png": "[encoded data removed]",
      "text/plain": [
       "<Figure size 900x252 with 3 Axes>"
      ]
     },
     "metadata": {
      "needs_background": "light"
     },
     "output_type": "display_data"
    }
   ],
   "source": [
    "df.groupby('fuel')['year'].mean().plot.bar(ax=axis[0],color=\"MEDIUMVIOLETRED\")\n",
    "\n",
    "plt.rcParams[\"figure.figsize\"] = [12.50, 3.50]\n",
    "plt.rcParams[\"figure.autolayout\"] = True\n",
    "figure, axis = plt.subplots(1, 3)\n",
    "\n",
    "df.boxplot('year',by='fuel',ax=axis[0],color=\"PURPLE\")\n",
    "df.boxplot('year',by='seller_type',ax=axis[1],color=\"PURPLE\")\n",
    "df.boxplot('year',by='transmission',ax=axis[2],color=\"PURPLE\")"
   ]
  },
  {
   "cell_type": "code",
   "execution_count": 34,
   "id": "e0af91e3",
   "metadata": {},
   "outputs": [
    {
     "data": {
      "text/html": [
       "<div>\n",
       "<style scoped>\n",
       "    .dataframe tbody tr th:only-of-type {\n",
       "        vertical-align: middle;\n",
       "    }\n",
       "\n",
       "    .dataframe tbody tr th {\n",
       "        vertical-align: top;\n",
       "    }\n",
       "\n",
       "    .dataframe thead th {\n",
       "        text-align: right;\n",
       "    }\n",
       "</style>\n",
       "<table border=\"1\" class=\"dataframe\">\n",
       "  <thead>\n",
       "    <tr style=\"text-align: right;\">\n",
       "      <th></th>\n",
       "      <th>sum_sq</th>\n",
       "      <th>df</th>\n",
       "      <th>F</th>\n",
       "      <th>PR(&gt;F)</th>\n",
       "    </tr>\n",
       "  </thead>\n",
       "  <tbody>\n",
       "    <tr>\n",
       "      <th>fuel</th>\n",
       "      <td>1350.617773</td>\n",
       "      <td>4.0</td>\n",
       "      <td>19.323293</td>\n",
       "      <td>9.007429e-16</td>\n",
       "    </tr>\n",
       "    <tr>\n",
       "      <th>Residual</th>\n",
       "      <td>75749.613564</td>\n",
       "      <td>4335.0</td>\n",
       "      <td>NaN</td>\n",
       "      <td>NaN</td>\n",
       "    </tr>\n",
       "  </tbody>\n",
       "</table>\n",
       "</div>"
      ],
      "text/plain": [
       "                sum_sq      df          F        PR(>F)\n",
       "fuel       1350.617773     4.0  19.323293  9.007429e-16\n",
       "Residual  75749.613564  4335.0        NaN           NaN"
      ]
     },
     "execution_count": 34,
     "metadata": {},
     "output_type": "execute_result"
    }
   ],
   "source": [
    "new = ols('year ~ fuel',data=df).fit()\n",
    "an = sm.stats.anova_lm(new,typ=2)\n",
    "an"
   ]
  },
  {
   "cell_type": "code",
   "execution_count": 35,
   "id": "456e91c4",
   "metadata": {},
   "outputs": [
    {
     "name": "stdout",
     "output_type": "stream",
     "text": [
      "We are selecting fuel attribute\n"
     ]
    }
   ],
   "source": [
    "if 0.05<=9.007429e-16:\n",
    "    print(\"We are not selecting fuel attribute\")\n",
    "else:\n",
    "    print(\"We are selecting fuel attribute\")"
   ]
  },
  {
   "cell_type": "code",
   "execution_count": 36,
   "id": "87415b2e",
   "metadata": {},
   "outputs": [
    {
     "data": {
      "text/html": [
       "<div>\n",
       "<style scoped>\n",
       "    .dataframe tbody tr th:only-of-type {\n",
       "        vertical-align: middle;\n",
       "    }\n",
       "\n",
       "    .dataframe tbody tr th {\n",
       "        vertical-align: top;\n",
       "    }\n",
       "\n",
       "    .dataframe thead th {\n",
       "        text-align: right;\n",
       "    }\n",
       "</style>\n",
       "<table border=\"1\" class=\"dataframe\">\n",
       "  <thead>\n",
       "    <tr style=\"text-align: right;\">\n",
       "      <th></th>\n",
       "      <th>sum_sq</th>\n",
       "      <th>df</th>\n",
       "      <th>F</th>\n",
       "      <th>PR(&gt;F)</th>\n",
       "    </tr>\n",
       "  </thead>\n",
       "  <tbody>\n",
       "    <tr>\n",
       "      <th>seller_type</th>\n",
       "      <td>2567.172861</td>\n",
       "      <td>2.0</td>\n",
       "      <td>74.69054</td>\n",
       "      <td>1.283625e-32</td>\n",
       "    </tr>\n",
       "    <tr>\n",
       "      <th>Residual</th>\n",
       "      <td>74533.058475</td>\n",
       "      <td>4337.0</td>\n",
       "      <td>NaN</td>\n",
       "      <td>NaN</td>\n",
       "    </tr>\n",
       "  </tbody>\n",
       "</table>\n",
       "</div>"
      ],
      "text/plain": [
       "                   sum_sq      df         F        PR(>F)\n",
       "seller_type   2567.172861     2.0  74.69054  1.283625e-32\n",
       "Residual     74533.058475  4337.0       NaN           NaN"
      ]
     },
     "execution_count": 36,
     "metadata": {},
     "output_type": "execute_result"
    }
   ],
   "source": [
    "new = ols('year ~ seller_type',data=df).fit()\n",
    "an = sm.stats.anova_lm(new,typ=2)\n",
    "an"
   ]
  },
  {
   "cell_type": "code",
   "execution_count": 37,
   "id": "ffe06a7e",
   "metadata": {},
   "outputs": [
    {
     "name": "stdout",
     "output_type": "stream",
     "text": [
      "We are selecting seller_type attribute\n"
     ]
    }
   ],
   "source": [
    "if 0.05<=1.283625e-32:\n",
    "    print(\"We are not selecting seller_type attribute\")\n",
    "else:\n",
    "    print(\"We are selecting seller_type attribute\")"
   ]
  },
  {
   "cell_type": "code",
   "execution_count": 38,
   "id": "64745d3b",
   "metadata": {},
   "outputs": [
    {
     "data": {
      "text/html": [
       "<div>\n",
       "<style scoped>\n",
       "    .dataframe tbody tr th:only-of-type {\n",
       "        vertical-align: middle;\n",
       "    }\n",
       "\n",
       "    .dataframe tbody tr th {\n",
       "        vertical-align: top;\n",
       "    }\n",
       "\n",
       "    .dataframe thead th {\n",
       "        text-align: right;\n",
       "    }\n",
       "</style>\n",
       "<table border=\"1\" class=\"dataframe\">\n",
       "  <thead>\n",
       "    <tr style=\"text-align: right;\">\n",
       "      <th></th>\n",
       "      <th>sum_sq</th>\n",
       "      <th>df</th>\n",
       "      <th>F</th>\n",
       "      <th>PR(&gt;F)</th>\n",
       "    </tr>\n",
       "  </thead>\n",
       "  <tbody>\n",
       "    <tr>\n",
       "      <th>fuel</th>\n",
       "      <td>1350.617773</td>\n",
       "      <td>4.0</td>\n",
       "      <td>19.323293</td>\n",
       "      <td>9.007429e-16</td>\n",
       "    </tr>\n",
       "    <tr>\n",
       "      <th>Residual</th>\n",
       "      <td>75749.613564</td>\n",
       "      <td>4335.0</td>\n",
       "      <td>NaN</td>\n",
       "      <td>NaN</td>\n",
       "    </tr>\n",
       "  </tbody>\n",
       "</table>\n",
       "</div>"
      ],
      "text/plain": [
       "                sum_sq      df          F        PR(>F)\n",
       "fuel       1350.617773     4.0  19.323293  9.007429e-16\n",
       "Residual  75749.613564  4335.0        NaN           NaN"
      ]
     },
     "execution_count": 38,
     "metadata": {},
     "output_type": "execute_result"
    }
   ],
   "source": [
    "new = ols('year ~ fuel',data=df).fit()\n",
    "an = sm.stats.anova_lm(new,typ=2)\n",
    "an"
   ]
  },
  {
   "cell_type": "code",
   "execution_count": 39,
   "id": "ecdcacf3",
   "metadata": {},
   "outputs": [
    {
     "data": {
      "text/plain": [
       "Ttest_indResult(statistic=9.570669428507182, pvalue=1.728962675012402e-21)"
      ]
     },
     "execution_count": 39,
     "metadata": {},
     "output_type": "execute_result"
    }
   ],
   "source": [
    "Automatic = df[df['transmission']=='Automatic']\n",
    "Manual = df[df['transmission']=='Manual']\n",
    "ttest_ind(Automatic['year'],Manual['year'],nan_policy='omit')"
   ]
  },
  {
   "cell_type": "code",
   "execution_count": 40,
   "id": "9b9fa407",
   "metadata": {},
   "outputs": [
    {
     "name": "stdout",
     "output_type": "stream",
     "text": [
      "We are selecting transmission attribute\n"
     ]
    }
   ],
   "source": [
    "if 0.05<=ttest_ind(Automatic['year'],Manual['year'],nan_policy='omit')[1]:\n",
    "    print(\"We are not selecting transmission attribute\")\n",
    "else:\n",
    "    print(\"We are selecting transmission attribute\")"
   ]
  },
  {
   "cell_type": "markdown",
   "id": "6c189d8a",
   "metadata": {},
   "source": [
    "#### Calculations for selling_price variable"
   ]
  },
  {
   "cell_type": "code",
   "execution_count": 41,
   "id": "95de10f3",
   "metadata": {},
   "outputs": [
    {
     "name": "stdout",
     "output_type": "stream",
     "text": [
      "----------------------------------\n",
      "fuel\n",
      "CNG         277174.925000\n",
      "Diesel      669094.252206\n",
      "Electric    310000.000000\n",
      "LPG         167826.043478\n",
      "Petrol      344840.137541\n",
      "Name: selling_price, dtype: float64\n",
      "----------------------------------\n",
      "seller_type\n",
      "Dealer              721822.890342\n",
      "Individual          424505.419236\n",
      "Trustmark Dealer    914950.980392\n",
      "Name: selling_price, dtype: float64\n",
      "----------------------------------\n",
      "transmission\n",
      "Automatic    1.408154e+06\n",
      "Manual       4.000667e+05\n",
      "Name: selling_price, dtype: float64\n",
      "----------------------------------\n"
     ]
    }
   ],
   "source": [
    "print(\"----------------------------------\")\n",
    "print(df.groupby('fuel')['selling_price'].mean())\n",
    "print(\"----------------------------------\")\n",
    "print(df.groupby('seller_type')['selling_price'].mean())\n",
    "print(\"----------------------------------\")\n",
    "print(df.groupby('transmission')['selling_price'].mean())\n",
    "print(\"----------------------------------\")"
   ]
  },
  {
   "cell_type": "code",
   "execution_count": 42,
   "id": "992f0530",
   "metadata": {},
   "outputs": [
    {
     "data": {
      "text/plain": [
       "<AxesSubplot:xlabel='transmission'>"
      ]
     },
     "execution_count": 42,
     "metadata": {},
     "output_type": "execute_result"
    },
    {
     "data": {
      "image/png": "[encoded data removed]",
      "text/plain": [
       "<Figure size 900x252 with 3 Axes>"
      ]
     },
     "metadata": {
      "needs_background": "light"
     },
     "output_type": "display_data"
    }
   ],
   "source": [
    "df.groupby('fuel')['selling_price'].mean().plot.bar(ax=axis[0],color=\"MEDIUMVIOLETRED\")\n",
    "\n",
    "plt.rcParams[\"figure.figsize\"] = [12.50, 3.50]\n",
    "plt.rcParams[\"figure.autolayout\"] = True\n",
    "figure, axis = plt.subplots(1, 3)\n",
    "\n",
    "df.groupby('fuel')['selling_price'].mean().plot.bar(ax=axis[0],color=\"MEDIUMVIOLETRED\")\n",
    "df.groupby('seller_type')['selling_price'].mean().plot.bar(ax=axis[1],color=\"INDIGO\")\n",
    "df.groupby('transmission')['selling_price'].mean().plot.bar(ax=axis[2],color=\"MEDIUMVIOLETRED\")"
   ]
  },
  {
   "cell_type": "code",
   "execution_count": 43,
   "id": "69c730fe",
   "metadata": {},
   "outputs": [
    {
     "data": {
      "text/plain": [
       "<AxesSubplot:title={'center':'selling_price'}, xlabel='transmission'>"
      ]
     },
     "execution_count": 43,
     "metadata": {},
     "output_type": "execute_result"
    },
    {
     "data": {
      "image/png": "[encoded data removed]",
      "text/plain": [
       "<Figure size 900x396 with 3 Axes>"
      ]
     },
     "metadata": {
      "needs_background": "light"
     },
     "output_type": "display_data"
    }
   ],
   "source": [
    "df.groupby('fuel')['selling_price'].mean().plot.bar(ax=axis[0],color=\"MEDIUMVIOLETRED\")\n",
    "\n",
    "plt.rcParams[\"figure.figsize\"] = [12.50, 5.50]\n",
    "plt.rcParams[\"figure.autolayout\"] = True\n",
    "figure, axis = plt.subplots(1, 3)\n",
    "\n",
    "df.boxplot('selling_price',by='fuel',ax=axis[0],color=\"PURPLE\")\n",
    "df.boxplot('selling_price',by='seller_type',ax=axis[1],color=\"PURPLE\")\n",
    "df.boxplot('selling_price',by='transmission',ax=axis[2],color=\"PURPLE\")"
   ]
  },
  {
   "cell_type": "markdown",
   "id": "c037dfd1",
   "metadata": {},
   "source": [
    "## Missing Value Treatement"
   ]
  },
  {
   "cell_type": "code",
   "execution_count": 44,
   "id": "a49e395e",
   "metadata": {},
   "outputs": [
    {
     "data": {
      "text/plain": [
       "['year', 'selling_price']"
      ]
     },
     "execution_count": 44,
     "metadata": {},
     "output_type": "execute_result"
    }
   ],
   "source": [
    "contineous"
   ]
  },
  {
   "cell_type": "code",
   "execution_count": 45,
   "id": "141ebee7",
   "metadata": {},
   "outputs": [
    {
     "data": {
      "text/plain": [
       "['fuel', 'seller_type', 'transmission']"
      ]
     },
     "execution_count": 45,
     "metadata": {},
     "output_type": "execute_result"
    }
   ],
   "source": [
    "categorical"
   ]
  },
  {
   "cell_type": "code",
   "execution_count": 46,
   "id": "c03b4f47",
   "metadata": {},
   "outputs": [
    {
     "data": {
      "text/plain": [
       "(4340, 6)"
      ]
     },
     "execution_count": 46,
     "metadata": {},
     "output_type": "execute_result"
    }
   ],
   "source": [
    "df.shape"
   ]
  },
  {
   "cell_type": "code",
   "execution_count": 47,
   "id": "ad433d70",
   "metadata": {},
   "outputs": [
    {
     "data": {
      "text/html": [
       "<div>\n",
       "<style scoped>\n",
       "    .dataframe tbody tr th:only-of-type {\n",
       "        vertical-align: middle;\n",
       "    }\n",
       "\n",
       "    .dataframe tbody tr th {\n",
       "        vertical-align: top;\n",
       "    }\n",
       "\n",
       "    .dataframe thead th {\n",
       "        text-align: right;\n",
       "    }\n",
       "</style>\n",
       "<table border=\"1\" class=\"dataframe\">\n",
       "  <thead>\n",
       "    <tr style=\"text-align: right;\">\n",
       "      <th></th>\n",
       "      <th>year</th>\n",
       "      <th>selling_price</th>\n",
       "    </tr>\n",
       "  </thead>\n",
       "  <tbody>\n",
       "    <tr>\n",
       "      <th>count</th>\n",
       "      <td>4340.000000</td>\n",
       "      <td>4.340000e+03</td>\n",
       "    </tr>\n",
       "    <tr>\n",
       "      <th>mean</th>\n",
       "      <td>2013.090783</td>\n",
       "      <td>5.041273e+05</td>\n",
       "    </tr>\n",
       "    <tr>\n",
       "      <th>std</th>\n",
       "      <td>4.215344</td>\n",
       "      <td>5.785487e+05</td>\n",
       "    </tr>\n",
       "    <tr>\n",
       "      <th>min</th>\n",
       "      <td>1992.000000</td>\n",
       "      <td>2.000000e+04</td>\n",
       "    </tr>\n",
       "    <tr>\n",
       "      <th>25%</th>\n",
       "      <td>2011.000000</td>\n",
       "      <td>2.087498e+05</td>\n",
       "    </tr>\n",
       "    <tr>\n",
       "      <th>50%</th>\n",
       "      <td>2014.000000</td>\n",
       "      <td>3.500000e+05</td>\n",
       "    </tr>\n",
       "    <tr>\n",
       "      <th>75%</th>\n",
       "      <td>2016.000000</td>\n",
       "      <td>6.000000e+05</td>\n",
       "    </tr>\n",
       "    <tr>\n",
       "      <th>max</th>\n",
       "      <td>2020.000000</td>\n",
       "      <td>8.900000e+06</td>\n",
       "    </tr>\n",
       "  </tbody>\n",
       "</table>\n",
       "</div>"
      ],
      "text/plain": [
       "              year  selling_price\n",
       "count  4340.000000   4.340000e+03\n",
       "mean   2013.090783   5.041273e+05\n",
       "std       4.215344   5.785487e+05\n",
       "min    1992.000000   2.000000e+04\n",
       "25%    2011.000000   2.087498e+05\n",
       "50%    2014.000000   3.500000e+05\n",
       "75%    2016.000000   6.000000e+05\n",
       "max    2020.000000   8.900000e+06"
      ]
     },
     "execution_count": 47,
     "metadata": {},
     "output_type": "execute_result"
    }
   ],
   "source": [
    "df.describe()"
   ]
  },
  {
   "cell_type": "code",
   "execution_count": 48,
   "id": "f51b03e4",
   "metadata": {},
   "outputs": [
    {
     "data": {
      "text/plain": [
       "name             0\n",
       "year             0\n",
       "selling_price    0\n",
       "fuel             0\n",
       "seller_type      0\n",
       "transmission     0\n",
       "dtype: int64"
      ]
     },
     "execution_count": 48,
     "metadata": {},
     "output_type": "execute_result"
    }
   ],
   "source": [
    "df.isnull().sum()"
   ]
  },
  {
   "cell_type": "code",
   "execution_count": 49,
   "id": "287f8a26",
   "metadata": {},
   "outputs": [
    {
     "data": {
      "text/plain": [
       "name             0.0\n",
       "year             0.0\n",
       "selling_price    0.0\n",
       "fuel             0.0\n",
       "seller_type      0.0\n",
       "transmission     0.0\n",
       "dtype: float64"
      ]
     },
     "execution_count": 49,
     "metadata": {},
     "output_type": "execute_result"
    }
   ],
   "source": [
    "df.isnull().mean()"
   ]
  },
  {
   "cell_type": "markdown",
   "id": "20e03fa1",
   "metadata": {},
   "source": [
    "There are no missing values in the dataset"
   ]
  },
  {
   "cell_type": "markdown",
   "id": "d0d5b232",
   "metadata": {},
   "source": [
    "## Outliers Treatement"
   ]
  },
  {
   "cell_type": "code",
   "execution_count": 50,
   "id": "c808eed8",
   "metadata": {},
   "outputs": [
    {
     "data": {
      "text/plain": [
       "['year', 'selling_price']"
      ]
     },
     "execution_count": 50,
     "metadata": {},
     "output_type": "execute_result"
    }
   ],
   "source": [
    "contineous"
   ]
  },
  {
   "cell_type": "code",
   "execution_count": 51,
   "id": "39ef2c34",
   "metadata": {},
   "outputs": [
    {
     "data": {
      "text/plain": [
       "<AxesSubplot:>"
      ]
     },
     "execution_count": 51,
     "metadata": {},
     "output_type": "execute_result"
    },
    {
     "data": {
      "image/png": "[encoded data removed]",
      "text/plain": [
       "<Figure size 900x252 with 2 Axes>"
      ]
     },
     "metadata": {
      "needs_background": "light"
     },
     "output_type": "display_data"
    }
   ],
   "source": [
    "plt.rcParams[\"figure.figsize\"] = [12.50, 3.50]\n",
    "plt.rcParams[\"figure.autolayout\"] = True\n",
    "figure, axis = plt.subplots(1, 2)\n",
    "\n",
    "df['year'].plot.box(ax=axis[0],color=\"PURPLE\")\n",
    "df['selling_price'].plot.box(ax=axis[1],color=\"PURPLE\")"
   ]
  },
  {
   "cell_type": "markdown",
   "id": "9ba11746",
   "metadata": {},
   "source": [
    "### Outlier Treatement for year variable"
   ]
  },
  {
   "cell_type": "code",
   "execution_count": 52,
   "id": "5a559e56",
   "metadata": {},
   "outputs": [],
   "source": [
    "Q1 = df.year.quantile(0.25)\n",
    "Q3 = df.year.quantile(0.75)\n",
    "IQR = Q3-Q1\n",
    "lower_limit = Q1-1.5*IQR\n",
    "upper_limit = Q3+1.5*IQR"
   ]
  },
  {
   "cell_type": "code",
   "execution_count": 53,
   "id": "ae9df43f",
   "metadata": {},
   "outputs": [
    {
     "data": {
      "text/plain": [
       "(2003.5, 2023.5)"
      ]
     },
     "execution_count": 53,
     "metadata": {},
     "output_type": "execute_result"
    }
   ],
   "source": [
    "lower_limit,upper_limit"
   ]
  },
  {
   "cell_type": "code",
   "execution_count": 54,
   "id": "41be6bd0",
   "metadata": {},
   "outputs": [],
   "source": [
    "df.loc[df['year']>upper_limit,'year'] = np.mean(df['year'])\n",
    "df.loc[df['year']<lower_limit,'year'] = np.mean(df['year'])"
   ]
  },
  {
   "cell_type": "markdown",
   "id": "66e6f85e",
   "metadata": {},
   "source": [
    "### Outlier Treatement for selling_price variable"
   ]
  },
  {
   "cell_type": "code",
   "execution_count": 55,
   "id": "78c54550",
   "metadata": {},
   "outputs": [],
   "source": [
    "Q1 = df.selling_price.quantile(0.25)\n",
    "Q3 = df.selling_price.quantile(0.75)\n",
    "IQR = Q3-Q1\n",
    "lower_limit = Q1-1.5*IQR\n",
    "upper_limit = Q3+1.5*IQR"
   ]
  },
  {
   "cell_type": "code",
   "execution_count": 56,
   "id": "53a8b8c8",
   "metadata": {},
   "outputs": [
    {
     "data": {
      "text/plain": [
       "(-378125.625, 1186875.375)"
      ]
     },
     "execution_count": 56,
     "metadata": {},
     "output_type": "execute_result"
    }
   ],
   "source": [
    "lower_limit,upper_limit"
   ]
  },
  {
   "cell_type": "code",
   "execution_count": 57,
   "id": "33ec2598",
   "metadata": {},
   "outputs": [],
   "source": [
    "df.loc[df['selling_price']>upper_limit,'selling_price'] = np.mean(df['selling_price'])\n",
    "df.loc[df['selling_price']<lower_limit,'selling_price'] = np.mean(df['selling_price'])"
   ]
  },
  {
   "cell_type": "code",
   "execution_count": 58,
   "id": "793599a8",
   "metadata": {},
   "outputs": [
    {
     "data": {
      "text/plain": [
       "<AxesSubplot:>"
      ]
     },
     "execution_count": 58,
     "metadata": {},
     "output_type": "execute_result"
    },
    {
     "data": {
      "image/png": "[encoded data removed]",
      "text/plain": [
       "<Figure size 900x252 with 2 Axes>"
      ]
     },
     "metadata": {
      "needs_background": "light"
     },
     "output_type": "display_data"
    }
   ],
   "source": [
    "plt.rcParams[\"figure.figsize\"] = [12.50, 3.50]\n",
    "plt.rcParams[\"figure.autolayout\"] = True\n",
    "figure, axis = plt.subplots(1, 2)\n",
    "\n",
    "df['year'].plot.box(ax=axis[0],color=\"PURPLE\")\n",
    "df['selling_price'].plot.box(ax=axis[1],color=\"PURPLE\")"
   ]
  },
  {
   "cell_type": "code",
   "execution_count": 59,
   "id": "72b554d7",
   "metadata": {},
   "outputs": [
    {
     "data": {
      "text/plain": [
       "<AxesSubplot:xlabel='year', ylabel='selling_price'>"
      ]
     },
     "execution_count": 59,
     "metadata": {},
     "output_type": "execute_result"
    },
    {
     "data": {
      "image/png": "[encoded data removed]",
      "text/plain": [
       "<Figure size 756x252 with 1 Axes>"
      ]
     },
     "metadata": {
      "needs_background": "light"
     },
     "output_type": "display_data"
    }
   ],
   "source": [
    "plt.rcParams[\"figure.figsize\"] = [10.50, 3.50]\n",
    "plt.rcParams[\"figure.autolayout\"] = True\n",
    "df.plot.scatter('year','selling_price',color=\"MEDIUMVIOLETRED\")"
   ]
  },
  {
   "cell_type": "code",
   "execution_count": 60,
   "id": "2a074001",
   "metadata": {},
   "outputs": [],
   "source": [
    "df.to_csv('CDSPP_Preprocessed.csv', encoding='utf-8', index=False)"
   ]
  }
 ],
 "metadata": {
  "kernelspec": {
   "display_name": "Python 3 (ipykernel)",
   "language": "python",
   "name": "python3"
  },
  "language_info": {
   "codemirror_mode": {
    "name": "ipython",
    "version": 3
   },
   "file_extension": ".py",
   "mimetype": "text/x-python",
   "name": "python",
   "nbconvert_exporter": "python",
   "pygments_lexer": "ipython3",
   "version": "3.9.12"
  }
 },
 "nbformat": 4,
 "nbformat_minor": 5
}
